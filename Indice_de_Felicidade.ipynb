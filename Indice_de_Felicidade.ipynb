{
  "nbformat": 4,
  "nbformat_minor": 0,
  "metadata": {
    "colab": {
      "name": "Indice-de-Felicidade.ipynb",
      "provenance": []
    },
    "kernelspec": {
      "name": "python3",
      "display_name": "Python 3"
    },
    "language_info": {
      "name": "python"
    }
  },
  "cells": [
    {
      "cell_type": "markdown",
      "metadata": {
        "id": "sbnZLLbdxXCP"
      },
      "source": [
        "# Atualização: Pacote Python, Pandas"
      ]
    },
    {
      "cell_type": "code",
      "metadata": {
        "colab": {
          "base_uri": "https://localhost:8080/"
        },
        "id": "q6GCJ3aoxRNL",
        "outputId": "89e279a0-6d06-4417-b832-6f3619193c37"
      },
      "source": [
        "!python -m pip install SomePackage"
      ],
      "execution_count": null,
      "outputs": [
        {
          "output_type": "stream",
          "text": [
            "Collecting SomePackage\n",
            "  Downloading somepackage-1.2.3.tar.gz (8.6 kB)\n",
            "Building wheels for collected packages: SomePackage\n",
            "  Building wheel for SomePackage (setup.py) ... \u001b[?25l\u001b[?25hdone\n",
            "  Created wheel for SomePackage: filename=somepackage-1.2.3-py3-none-any.whl size=9293 sha256=4bc65dbac6c31b7daf2dd06a639a3473d4f6c80f204fe9b8df9b28b3f5c69bca\n",
            "  Stored in directory: /root/.cache/pip/wheels/ac/60/3d/195deb8ad5768f322df5510ff4f686233d29243c709dc563ba\n",
            "Successfully built SomePackage\n",
            "Installing collected packages: SomePackage\n",
            "Successfully installed SomePackage-1.2.3\n"
          ],
          "name": "stdout"
        }
      ]
    },
    {
      "cell_type": "code",
      "metadata": {
        "colab": {
          "base_uri": "https://localhost:8080/"
        },
        "id": "l_uAZN5gvup5",
        "outputId": "37699a51-a400-43cd-b720-998ff448069a"
      },
      "source": [
        "!pip install pandas==1.3.1"
      ],
      "execution_count": null,
      "outputs": [
        {
          "output_type": "stream",
          "text": [
            "Requirement already satisfied: pandas==1.3.1 in /usr/local/lib/python3.7/dist-packages (1.3.1)\n",
            "Requirement already satisfied: pytz>=2017.3 in /usr/local/lib/python3.7/dist-packages (from pandas==1.3.1) (2018.9)\n",
            "Requirement already satisfied: numpy>=1.17.3 in /usr/local/lib/python3.7/dist-packages (from pandas==1.3.1) (1.19.5)\n",
            "Requirement already satisfied: python-dateutil>=2.7.3 in /usr/local/lib/python3.7/dist-packages (from pandas==1.3.1) (2.8.1)\n",
            "Requirement already satisfied: six>=1.5 in /usr/local/lib/python3.7/dist-packages (from python-dateutil>=2.7.3->pandas==1.3.1) (1.15.0)\n"
          ],
          "name": "stdout"
        }
      ]
    },
    {
      "cell_type": "code",
      "metadata": {
        "id": "ihLPIdhbgaNR"
      },
      "source": [
        "import pandas as pd\n",
        "import numpy as np\n",
        "import matplotlib as plt\n",
        "import matplotlib.pyplot as plt"
      ],
      "execution_count": null,
      "outputs": []
    },
    {
      "cell_type": "code",
      "metadata": {
        "colab": {
          "base_uri": "https://localhost:8080/"
        },
        "id": "GGg7YIYwu5kY",
        "outputId": "ff7c3abe-2fc3-40e7-a152-1e05c16c50ab"
      },
      "source": [
        "print(pd.__version__)"
      ],
      "execution_count": null,
      "outputs": [
        {
          "output_type": "stream",
          "text": [
            "1.1.5\n"
          ],
          "name": "stdout"
        }
      ]
    },
    {
      "cell_type": "markdown",
      "metadata": {
        "id": "YE7mK03Qx117"
      },
      "source": [
        "# Informações gerais do Dataset"
      ]
    },
    {
      "cell_type": "code",
      "metadata": {
        "id": "p3kWNxbdgkvk"
      },
      "source": [
        "df=pd.read_csv(\"/content/drive/MyDrive/Dataset/Coursera K-means/_happyscore_income.csv\")"
      ],
      "execution_count": null,
      "outputs": []
    },
    {
      "cell_type": "code",
      "metadata": {
        "colab": {
          "base_uri": "https://localhost:8080/"
        },
        "id": "crSiaQLZj4L7",
        "outputId": "9080d97f-92c2-4df2-f786-68322cba7591"
      },
      "source": [
        "df.info()"
      ],
      "execution_count": null,
      "outputs": [
        {
          "output_type": "stream",
          "text": [
            "<class 'pandas.core.frame.DataFrame'>\n",
            "RangeIndex: 111 entries, 0 to 110\n",
            "Data columns (total 11 columns):\n",
            " #   Column                 Non-Null Count  Dtype  \n",
            "---  ------                 --------------  -----  \n",
            " 0   country                111 non-null    object \n",
            " 1   adjusted_satisfaction  111 non-null    float64\n",
            " 2   avg_satisfaction       111 non-null    float64\n",
            " 3   std_satisfaction       111 non-null    float64\n",
            " 4   avg_income             111 non-null    float64\n",
            " 5   median_income          111 non-null    float64\n",
            " 6   income_inequality      111 non-null    float64\n",
            " 7   region                 111 non-null    object \n",
            " 8   happyScore             111 non-null    float64\n",
            " 9   GDP                    111 non-null    float64\n",
            " 10  country.1              111 non-null    object \n",
            "dtypes: float64(8), object(3)\n",
            "memory usage: 9.7+ KB\n"
          ],
          "name": "stdout"
        }
      ]
    },
    {
      "cell_type": "code",
      "metadata": {
        "colab": {
          "base_uri": "https://localhost:8080/"
        },
        "id": "cZcV74CskIPs",
        "outputId": "7d425e88-8be2-4c7c-eff4-15b79e74923b"
      },
      "source": [
        "df.head()"
      ],
      "execution_count": null,
      "outputs": [
        {
          "output_type": "execute_result",
          "data": {
            "text/html": [
              "<div>\n",
              "<style scoped>\n",
              "    .dataframe tbody tr th:only-of-type {\n",
              "        vertical-align: middle;\n",
              "    }\n",
              "\n",
              "    .dataframe tbody tr th {\n",
              "        vertical-align: top;\n",
              "    }\n",
              "\n",
              "    .dataframe thead th {\n",
              "        text-align: right;\n",
              "    }\n",
              "</style>\n",
              "<table border=\"1\" class=\"dataframe\">\n",
              "  <thead>\n",
              "    <tr style=\"text-align: right;\">\n",
              "      <th></th>\n",
              "      <th>country</th>\n",
              "      <th>adjusted_satisfaction</th>\n",
              "      <th>avg_satisfaction</th>\n",
              "      <th>std_satisfaction</th>\n",
              "      <th>avg_income</th>\n",
              "      <th>median_income</th>\n",
              "      <th>income_inequality</th>\n",
              "      <th>region</th>\n",
              "      <th>happyScore</th>\n",
              "      <th>GDP</th>\n",
              "      <th>country.1</th>\n",
              "    </tr>\n",
              "  </thead>\n",
              "  <tbody>\n",
              "    <tr>\n",
              "      <th>0</th>\n",
              "      <td>Armenia</td>\n",
              "      <td>37.0</td>\n",
              "      <td>4.9</td>\n",
              "      <td>2.42</td>\n",
              "      <td>2096.76</td>\n",
              "      <td>1731.506667</td>\n",
              "      <td>31.445556</td>\n",
              "      <td>'Central and Eastern Europe'</td>\n",
              "      <td>4.350</td>\n",
              "      <td>0.76821</td>\n",
              "      <td>Armenia</td>\n",
              "    </tr>\n",
              "    <tr>\n",
              "      <th>1</th>\n",
              "      <td>Angola</td>\n",
              "      <td>26.0</td>\n",
              "      <td>4.3</td>\n",
              "      <td>3.19</td>\n",
              "      <td>1448.88</td>\n",
              "      <td>1044.240000</td>\n",
              "      <td>42.720000</td>\n",
              "      <td>'Sub-Saharan Africa'</td>\n",
              "      <td>4.033</td>\n",
              "      <td>0.75778</td>\n",
              "      <td>Angola</td>\n",
              "    </tr>\n",
              "    <tr>\n",
              "      <th>2</th>\n",
              "      <td>Argentina</td>\n",
              "      <td>60.0</td>\n",
              "      <td>7.1</td>\n",
              "      <td>1.91</td>\n",
              "      <td>7101.12</td>\n",
              "      <td>5109.400000</td>\n",
              "      <td>45.475556</td>\n",
              "      <td>'Latin America and Caribbean'</td>\n",
              "      <td>6.574</td>\n",
              "      <td>1.05351</td>\n",
              "      <td>Argentina</td>\n",
              "    </tr>\n",
              "    <tr>\n",
              "      <th>3</th>\n",
              "      <td>Austria</td>\n",
              "      <td>59.0</td>\n",
              "      <td>7.2</td>\n",
              "      <td>2.11</td>\n",
              "      <td>19457.04</td>\n",
              "      <td>16879.620000</td>\n",
              "      <td>30.296250</td>\n",
              "      <td>'Western Europe'</td>\n",
              "      <td>7.200</td>\n",
              "      <td>1.33723</td>\n",
              "      <td>Austria</td>\n",
              "    </tr>\n",
              "    <tr>\n",
              "      <th>4</th>\n",
              "      <td>Australia</td>\n",
              "      <td>65.0</td>\n",
              "      <td>7.6</td>\n",
              "      <td>1.80</td>\n",
              "      <td>19917.00</td>\n",
              "      <td>15846.060000</td>\n",
              "      <td>35.285000</td>\n",
              "      <td>'Australia and New Zealand'</td>\n",
              "      <td>7.284</td>\n",
              "      <td>1.33358</td>\n",
              "      <td>Australia</td>\n",
              "    </tr>\n",
              "  </tbody>\n",
              "</table>\n",
              "</div>"
            ],
            "text/plain": [
              "     country  adjusted_satisfaction  ...      GDP  country.1\n",
              "0    Armenia                   37.0  ...  0.76821    Armenia\n",
              "1     Angola                   26.0  ...  0.75778     Angola\n",
              "2  Argentina                   60.0  ...  1.05351  Argentina\n",
              "3    Austria                   59.0  ...  1.33723    Austria\n",
              "4  Australia                   65.0  ...  1.33358  Australia\n",
              "\n",
              "[5 rows x 11 columns]"
            ]
          },
          "metadata": {
            "tags": []
          },
          "execution_count": 4
        }
      ]
    },
    {
      "cell_type": "markdown",
      "metadata": {
        "id": "ThkosmyetKuG"
      },
      "source": [
        "# Verificação de valores faltantes"
      ]
    },
    {
      "cell_type": "code",
      "metadata": {
        "colab": {
          "base_uri": "https://localhost:8080/"
        },
        "id": "-5H-2JBZslIM",
        "outputId": "52b4ba3d-6069-4c71-a221-1c3f8bfd046c"
      },
      "source": [
        "df.isnull().sum()"
      ],
      "execution_count": null,
      "outputs": [
        {
          "output_type": "execute_result",
          "data": {
            "text/plain": [
              "country                  0\n",
              "adjusted_satisfaction    0\n",
              "avg_satisfaction         0\n",
              "std_satisfaction         0\n",
              "avg_income               0\n",
              "median_income            0\n",
              "income_inequality        0\n",
              "region                   0\n",
              "happyScore               0\n",
              "GDP                      0\n",
              "country.1                0\n",
              "dtype: int64"
            ]
          },
          "metadata": {
            "tags": []
          },
          "execution_count": 48
        }
      ]
    },
    {
      "cell_type": "markdown",
      "metadata": {
        "id": "iXAS51Sls6Yz"
      },
      "source": [
        "\n",
        "\n",
        "> **Não valores faltantes nesse dataset**\n",
        "\n"
      ]
    },
    {
      "cell_type": "markdown",
      "metadata": {
        "id": "7w4GE-Uct-ZW"
      },
      "source": [
        "# Observação das colunas de renda, felicidade e disgualdade de renda"
      ]
    },
    {
      "cell_type": "code",
      "metadata": {
        "id": "H7krCUEWk8s7"
      },
      "source": [
        "happy=df['happyScore']\n",
        "income=df['avg_income']\n",
        "disparidade=df['income_inequality']"
      ],
      "execution_count": null,
      "outputs": []
    },
    {
      "cell_type": "code",
      "metadata": {
        "colab": {
          "base_uri": "https://localhost:8080/"
        },
        "id": "Q5p7KQrUljPb",
        "outputId": "07c2f9d2-ae78-43a8-e385-e541c1585d84"
      },
      "source": [
        "happy.describe()"
      ],
      "execution_count": null,
      "outputs": [
        {
          "output_type": "execute_result",
          "data": {
            "text/plain": [
              "count    111.000000\n",
              "mean       5.421910\n",
              "std        1.180801\n",
              "min        2.839000\n",
              "25%        4.568000\n",
              "50%        5.268000\n",
              "75%        6.392000\n",
              "max        7.587000\n",
              "Name: happyScore, dtype: float64"
            ]
          },
          "metadata": {
            "tags": []
          },
          "execution_count": 16
        }
      ]
    },
    {
      "cell_type": "code",
      "metadata": {
        "colab": {
          "base_uri": "https://localhost:8080/"
        },
        "id": "-U6AqNzCl1kz",
        "outputId": "785b35eb-ee07-4fa9-d677-b45c6cb48856"
      },
      "source": [
        "income.describe()"
      ],
      "execution_count": null,
      "outputs": [
        {
          "output_type": "execute_result",
          "data": {
            "text/plain": [
              "count      111.000000\n",
              "mean      6442.751416\n",
              "std       6479.533692\n",
              "min        572.880000\n",
              "25%       1519.388684\n",
              "50%       3889.320000\n",
              "75%       7867.402500\n",
              "max      26182.275000\n",
              "Name: avg_income, dtype: float64"
            ]
          },
          "metadata": {
            "tags": []
          },
          "execution_count": 17
        }
      ]
    },
    {
      "cell_type": "code",
      "metadata": {
        "colab": {
          "base_uri": "https://localhost:8080/"
        },
        "id": "ywAi6Kr4BUzg",
        "outputId": "e0433099-35f0-41f3-a852-e4ac4910b9bf"
      },
      "source": [
        "disparidade.describe()"
      ],
      "execution_count": null,
      "outputs": [
        {
          "output_type": "execute_result",
          "data": {
            "text/plain": [
              "count    111.000000\n",
              "mean      38.417805\n",
              "std        8.375557\n",
              "min       24.215000\n",
              "25%       32.182857\n",
              "50%       36.480000\n",
              "75%       43.380000\n",
              "max       63.726667\n",
              "Name: income_inequality, dtype: float64"
            ]
          },
          "metadata": {
            "tags": []
          },
          "execution_count": 95
        }
      ]
    },
    {
      "cell_type": "code",
      "metadata": {
        "colab": {
          "base_uri": "https://localhost:8080/"
        },
        "id": "qG-KRTbUmFzW",
        "outputId": "847fb135-ef41-4191-c22d-3e2e74fb0188"
      },
      "source": [
        "plt.xlabel('Income AVG (Renda Média)')\n",
        "plt.ylabel('Happy score (Pontuação de Felicidade)')\n",
        "plt.scatter(income,happy)"
      ],
      "execution_count": null,
      "outputs": [
        {
          "output_type": "execute_result",
          "data": {
            "text/plain": [
              "<matplotlib.collections.PathCollection at 0x7f26aff2fe90>"
            ]
          },
          "metadata": {
            "tags": []
          },
          "execution_count": 25
        },
        {
          "output_type": "display_data",
          "data": {
            "image/png": "[encoded data removed]",
            "text/plain": [
              "<Figure size 432x288 with 1 Axes>"
            ]
          },
          "metadata": {
            "tags": [],
            "needs_background": "light"
          }
        }
      ]
    },
    {
      "cell_type": "code",
      "metadata": {
        "colab": {
          "base_uri": "https://localhost:8080/"
        },
        "id": "H1mJVwCvBenu",
        "outputId": "5ae4b0de-a566-4aec-9f18-72c20f801059"
      },
      "source": [
        "plt.xlabel('Income Inequality (Desigualdade de Renda)')\n",
        "plt.ylabel('Happy score (Pontuação de Felicidade)')\n",
        "plt.scatter(disparidade,happy)"
      ],
      "execution_count": null,
      "outputs": [
        {
          "output_type": "execute_result",
          "data": {
            "text/plain": [
              "<matplotlib.collections.PathCollection at 0x7f26ace85f50>"
            ]
          },
          "metadata": {
            "tags": []
          },
          "execution_count": 97
        },
        {
          "output_type": "display_data",
          "data": {
            "image/png": "[encoded data removed]",
            "text/plain": [
              "<Figure size 432x288 with 1 Axes>"
            ]
          },
          "metadata": {
            "tags": [],
            "needs_background": "light"
          }
        }
      ]
    },
    {
      "cell_type": "code",
      "metadata": {
        "colab": {
          "base_uri": "https://localhost:8080/"
        },
        "id": "xAGjSG7yB8-E",
        "outputId": "c271a8e5-e01d-475b-ea3a-d8ecb25d6151"
      },
      "source": [
        "plt.xlabel('Income Avg (Renda)')\n",
        "plt.ylabel('Income Inequality (Desigualdade de Renda)')\n",
        "plt.scatter(income,disparidade)"
      ],
      "execution_count": null,
      "outputs": [
        {
          "output_type": "execute_result",
          "data": {
            "text/plain": [
              "<matplotlib.collections.PathCollection at 0x7f26acdfc3d0>"
            ]
          },
          "metadata": {
            "tags": []
          },
          "execution_count": 98
        },
        {
          "output_type": "display_data",
          "data": {
            "image/png": "[encoded data removed]",
            "text/plain": [
              "<Figure size 432x288 with 1 Axes>"
            ]
          },
          "metadata": {
            "tags": [],
            "needs_background": "light"
          }
        }
      ]
    },
    {
      "cell_type": "markdown",
      "metadata": {
        "id": "rL298XK9tVzY"
      },
      "source": [
        "# Organização do dataset a partir da renda dos países (ASC)"
      ]
    },
    {
      "cell_type": "code",
      "metadata": {
        "colab": {
          "base_uri": "https://localhost:8080/",
          "height": 408
        },
        "id": "8aI5-4yuo0ja",
        "outputId": "4e7b4fa5-c109-4be5-8835-ecad0fdaa959"
      },
      "source": [
        "df.sort_values('avg_income', inplace=True)\n",
        "df"
      ],
      "execution_count": null,
      "outputs": [
        {
          "output_type": "execute_result",
          "data": {
            "text/html": [
              "<div>\n",
              "<style scoped>\n",
              "    .dataframe tbody tr th:only-of-type {\n",
              "        vertical-align: middle;\n",
              "    }\n",
              "\n",
              "    .dataframe tbody tr th {\n",
              "        vertical-align: top;\n",
              "    }\n",
              "\n",
              "    .dataframe thead th {\n",
              "        text-align: right;\n",
              "    }\n",
              "</style>\n",
              "<table border=\"1\" class=\"dataframe\">\n",
              "  <thead>\n",
              "    <tr style=\"text-align: right;\">\n",
              "      <th></th>\n",
              "      <th>country</th>\n",
              "      <th>adjusted_satisfaction</th>\n",
              "      <th>avg_satisfaction</th>\n",
              "      <th>std_satisfaction</th>\n",
              "      <th>avg_income</th>\n",
              "      <th>median_income</th>\n",
              "      <th>income_inequality</th>\n",
              "      <th>region</th>\n",
              "      <th>happyScore</th>\n",
              "      <th>GDP</th>\n",
              "      <th>country.1</th>\n",
              "    </tr>\n",
              "  </thead>\n",
              "  <tbody>\n",
              "    <tr>\n",
              "      <th>10</th>\n",
              "      <td>Burundi</td>\n",
              "      <td>25.0</td>\n",
              "      <td>2.9</td>\n",
              "      <td>1.96</td>\n",
              "      <td>572.880</td>\n",
              "      <td>436.92</td>\n",
              "      <td>33.360000</td>\n",
              "      <td>'Sub-Saharan Africa'</td>\n",
              "      <td>2.905</td>\n",
              "      <td>0.01530</td>\n",
              "      <td>Burundi</td>\n",
              "    </tr>\n",
              "    <tr>\n",
              "      <th>65</th>\n",
              "      <td>Madagascar</td>\n",
              "      <td>33.0</td>\n",
              "      <td>3.7</td>\n",
              "      <td>1.86</td>\n",
              "      <td>574.200</td>\n",
              "      <td>415.48</td>\n",
              "      <td>40.720000</td>\n",
              "      <td>'Sub-Saharan Africa'</td>\n",
              "      <td>3.681</td>\n",
              "      <td>0.20824</td>\n",
              "      <td>Madagascar</td>\n",
              "    </tr>\n",
              "    <tr>\n",
              "      <th>58</th>\n",
              "      <td>Liberia</td>\n",
              "      <td>37.0</td>\n",
              "      <td>4.4</td>\n",
              "      <td>2.02</td>\n",
              "      <td>653.040</td>\n",
              "      <td>528.72</td>\n",
              "      <td>36.480000</td>\n",
              "      <td>'Sub-Saharan Africa'</td>\n",
              "      <td>4.571</td>\n",
              "      <td>0.07120</td>\n",
              "      <td>Liberia</td>\n",
              "    </tr>\n",
              "    <tr>\n",
              "      <th>72</th>\n",
              "      <td>Mozambique</td>\n",
              "      <td>34.0</td>\n",
              "      <td>3.8</td>\n",
              "      <td>1.76</td>\n",
              "      <td>714.720</td>\n",
              "      <td>488.52</td>\n",
              "      <td>45.580000</td>\n",
              "      <td>'Sub-Saharan Africa'</td>\n",
              "      <td>4.971</td>\n",
              "      <td>0.08308</td>\n",
              "      <td>Mozambique</td>\n",
              "    </tr>\n",
              "    <tr>\n",
              "      <th>73</th>\n",
              "      <td>Niger</td>\n",
              "      <td>34.0</td>\n",
              "      <td>3.8</td>\n",
              "      <td>1.75</td>\n",
              "      <td>718.400</td>\n",
              "      <td>535.56</td>\n",
              "      <td>37.726667</td>\n",
              "      <td>'Sub-Saharan Africa'</td>\n",
              "      <td>3.845</td>\n",
              "      <td>0.06940</td>\n",
              "      <td>Niger</td>\n",
              "    </tr>\n",
              "    <tr>\n",
              "      <th>...</th>\n",
              "      <td>...</td>\n",
              "      <td>...</td>\n",
              "      <td>...</td>\n",
              "      <td>...</td>\n",
              "      <td>...</td>\n",
              "      <td>...</td>\n",
              "      <td>...</td>\n",
              "      <td>...</td>\n",
              "      <td>...</td>\n",
              "      <td>...</td>\n",
              "      <td>...</td>\n",
              "    </tr>\n",
              "    <tr>\n",
              "      <th>16</th>\n",
              "      <td>Canada</td>\n",
              "      <td>69.0</td>\n",
              "      <td>8.0</td>\n",
              "      <td>1.71</td>\n",
              "      <td>20190.780</td>\n",
              "      <td>16829.10</td>\n",
              "      <td>33.790000</td>\n",
              "      <td>'North America'</td>\n",
              "      <td>7.427</td>\n",
              "      <td>1.32629</td>\n",
              "      <td>Canada</td>\n",
              "    </tr>\n",
              "    <tr>\n",
              "      <th>77</th>\n",
              "      <td>Norway</td>\n",
              "      <td>70.0</td>\n",
              "      <td>8.0</td>\n",
              "      <td>1.62</td>\n",
              "      <td>21877.710</td>\n",
              "      <td>19477.62</td>\n",
              "      <td>27.307500</td>\n",
              "      <td>'Western Europe'</td>\n",
              "      <td>7.522</td>\n",
              "      <td>1.45900</td>\n",
              "      <td>Norway</td>\n",
              "    </tr>\n",
              "    <tr>\n",
              "      <th>105</th>\n",
              "      <td>United States</td>\n",
              "      <td>62.0</td>\n",
              "      <td>7.3</td>\n",
              "      <td>1.92</td>\n",
              "      <td>23127.000</td>\n",
              "      <td>17925.36</td>\n",
              "      <td>41.090000</td>\n",
              "      <td>'North America'</td>\n",
              "      <td>7.119</td>\n",
              "      <td>1.39451</td>\n",
              "      <td>United States</td>\n",
              "    </tr>\n",
              "    <tr>\n",
              "      <th>17</th>\n",
              "      <td>Switzerland</td>\n",
              "      <td>70.0</td>\n",
              "      <td>8.0</td>\n",
              "      <td>1.62</td>\n",
              "      <td>23400.040</td>\n",
              "      <td>19442.92</td>\n",
              "      <td>32.930000</td>\n",
              "      <td>'Western Europe'</td>\n",
              "      <td>7.587</td>\n",
              "      <td>1.39651</td>\n",
              "      <td>Switzerland</td>\n",
              "    </tr>\n",
              "    <tr>\n",
              "      <th>61</th>\n",
              "      <td>Luxembourg</td>\n",
              "      <td>66.0</td>\n",
              "      <td>7.7</td>\n",
              "      <td>1.76</td>\n",
              "      <td>26182.275</td>\n",
              "      <td>22240.23</td>\n",
              "      <td>31.950000</td>\n",
              "      <td>'Western Europe'</td>\n",
              "      <td>6.946</td>\n",
              "      <td>1.56391</td>\n",
              "      <td>Luxembourg</td>\n",
              "    </tr>\n",
              "  </tbody>\n",
              "</table>\n",
              "<p>111 rows × 11 columns</p>\n",
              "</div>"
            ],
            "text/plain": [
              "           country  adjusted_satisfaction  ...      GDP      country.1\n",
              "10         Burundi                   25.0  ...  0.01530        Burundi\n",
              "65      Madagascar                   33.0  ...  0.20824     Madagascar\n",
              "58         Liberia                   37.0  ...  0.07120        Liberia\n",
              "72      Mozambique                   34.0  ...  0.08308     Mozambique\n",
              "73           Niger                   34.0  ...  0.06940          Niger\n",
              "..             ...                    ...  ...      ...            ...\n",
              "16          Canada                   69.0  ...  1.32629         Canada\n",
              "77          Norway                   70.0  ...  1.45900         Norway\n",
              "105  United States                   62.0  ...  1.39451  United States\n",
              "17     Switzerland                   70.0  ...  1.39651    Switzerland\n",
              "61      Luxembourg                   66.0  ...  1.56391     Luxembourg\n",
              "\n",
              "[111 rows x 11 columns]"
            ]
          },
          "metadata": {
            "tags": []
          },
          "execution_count": 28
        }
      ]
    },
    {
      "cell_type": "markdown",
      "metadata": {
        "id": "qcXTHVo_tpp5"
      },
      "source": [
        "# Separando as informações dos países mais ricos"
      ]
    },
    {
      "cell_type": "code",
      "metadata": {
        "colab": {
          "base_uri": "https://localhost:8080/",
          "height": 625
        },
        "id": "PaJvgWaRptGH",
        "outputId": "c8767093-6e17-4dd8-af7d-160ffb6dbf95"
      },
      "source": [
        "richest=df[ df['avg_income'] > 15000 ]\n",
        "richest"
      ],
      "execution_count": null,
      "outputs": [
        {
          "output_type": "execute_result",
          "data": {
            "text/html": [
              "<div>\n",
              "<style scoped>\n",
              "    .dataframe tbody tr th:only-of-type {\n",
              "        vertical-align: middle;\n",
              "    }\n",
              "\n",
              "    .dataframe tbody tr th {\n",
              "        vertical-align: top;\n",
              "    }\n",
              "\n",
              "    .dataframe thead th {\n",
              "        text-align: right;\n",
              "    }\n",
              "</style>\n",
              "<table border=\"1\" class=\"dataframe\">\n",
              "  <thead>\n",
              "    <tr style=\"text-align: right;\">\n",
              "      <th></th>\n",
              "      <th>country</th>\n",
              "      <th>adjusted_satisfaction</th>\n",
              "      <th>avg_satisfaction</th>\n",
              "      <th>std_satisfaction</th>\n",
              "      <th>avg_income</th>\n",
              "      <th>median_income</th>\n",
              "      <th>income_inequality</th>\n",
              "      <th>region</th>\n",
              "      <th>happyScore</th>\n",
              "      <th>GDP</th>\n",
              "      <th>country.1</th>\n",
              "    </tr>\n",
              "  </thead>\n",
              "  <tbody>\n",
              "    <tr>\n",
              "      <th>49</th>\n",
              "      <td>Italy</td>\n",
              "      <td>57.0</td>\n",
              "      <td>6.6</td>\n",
              "      <td>1.81</td>\n",
              "      <td>15437.595000</td>\n",
              "      <td>13163.070000</td>\n",
              "      <td>34.126250</td>\n",
              "      <td>'Western Europe'</td>\n",
              "      <td>5.948</td>\n",
              "      <td>1.25114</td>\n",
              "      <td>Italy</td>\n",
              "    </tr>\n",
              "    <tr>\n",
              "      <th>44</th>\n",
              "      <td>Ireland</td>\n",
              "      <td>64.0</td>\n",
              "      <td>7.5</td>\n",
              "      <td>1.85</td>\n",
              "      <td>16657.770000</td>\n",
              "      <td>13823.160000</td>\n",
              "      <td>32.418750</td>\n",
              "      <td>'Western Europe'</td>\n",
              "      <td>6.940</td>\n",
              "      <td>1.33596</td>\n",
              "      <td>Ireland</td>\n",
              "    </tr>\n",
              "    <tr>\n",
              "      <th>90</th>\n",
              "      <td>Sweden</td>\n",
              "      <td>67.0</td>\n",
              "      <td>7.8</td>\n",
              "      <td>1.72</td>\n",
              "      <td>17032.755000</td>\n",
              "      <td>15166.605000</td>\n",
              "      <td>26.950000</td>\n",
              "      <td>'Western Europe'</td>\n",
              "      <td>7.364</td>\n",
              "      <td>1.33171</td>\n",
              "      <td>Sweden</td>\n",
              "    </tr>\n",
              "    <tr>\n",
              "      <th>36</th>\n",
              "      <td>United Kingdom</td>\n",
              "      <td>60.0</td>\n",
              "      <td>7.1</td>\n",
              "      <td>1.98</td>\n",
              "      <td>17099.550000</td>\n",
              "      <td>14172.735000</td>\n",
              "      <td>34.432500</td>\n",
              "      <td>'Western Europe'</td>\n",
              "      <td>6.867</td>\n",
              "      <td>1.26637</td>\n",
              "      <td>United Kingdom</td>\n",
              "    </tr>\n",
              "    <tr>\n",
              "      <th>7</th>\n",
              "      <td>Belgium</td>\n",
              "      <td>63.0</td>\n",
              "      <td>7.2</td>\n",
              "      <td>1.72</td>\n",
              "      <td>17168.505000</td>\n",
              "      <td>15166.455000</td>\n",
              "      <td>28.745000</td>\n",
              "      <td>'Western Europe'</td>\n",
              "      <td>6.937</td>\n",
              "      <td>1.30782</td>\n",
              "      <td>Belgium</td>\n",
              "    </tr>\n",
              "    <tr>\n",
              "      <th>33</th>\n",
              "      <td>Finland</td>\n",
              "      <td>70.0</td>\n",
              "      <td>7.9</td>\n",
              "      <td>1.53</td>\n",
              "      <td>17310.195000</td>\n",
              "      <td>14962.560000</td>\n",
              "      <td>27.723750</td>\n",
              "      <td>'Western Europe'</td>\n",
              "      <td>7.406</td>\n",
              "      <td>1.29025</td>\n",
              "      <td>Finland</td>\n",
              "    </tr>\n",
              "    <tr>\n",
              "      <th>27</th>\n",
              "      <td>Denmark</td>\n",
              "      <td>74.0</td>\n",
              "      <td>8.4</td>\n",
              "      <td>1.53</td>\n",
              "      <td>17496.510000</td>\n",
              "      <td>15630.885000</td>\n",
              "      <td>28.155000</td>\n",
              "      <td>'Western Europe'</td>\n",
              "      <td>7.527</td>\n",
              "      <td>1.32548</td>\n",
              "      <td>Denmark</td>\n",
              "    </tr>\n",
              "    <tr>\n",
              "      <th>34</th>\n",
              "      <td>France</td>\n",
              "      <td>52.0</td>\n",
              "      <td>6.4</td>\n",
              "      <td>2.15</td>\n",
              "      <td>18096.788571</td>\n",
              "      <td>14971.251429</td>\n",
              "      <td>32.255714</td>\n",
              "      <td>'Western Europe'</td>\n",
              "      <td>6.575</td>\n",
              "      <td>1.27778</td>\n",
              "      <td>France</td>\n",
              "    </tr>\n",
              "    <tr>\n",
              "      <th>76</th>\n",
              "      <td>Netherlands</td>\n",
              "      <td>69.0</td>\n",
              "      <td>7.6</td>\n",
              "      <td>1.38</td>\n",
              "      <td>18234.435000</td>\n",
              "      <td>15880.545000</td>\n",
              "      <td>29.271250</td>\n",
              "      <td>'Western Europe'</td>\n",
              "      <td>7.378</td>\n",
              "      <td>1.32944</td>\n",
              "      <td>Netherlands</td>\n",
              "    </tr>\n",
              "    <tr>\n",
              "      <th>48</th>\n",
              "      <td>Iceland</td>\n",
              "      <td>71.0</td>\n",
              "      <td>8.1</td>\n",
              "      <td>1.64</td>\n",
              "      <td>18828.345000</td>\n",
              "      <td>16179.315000</td>\n",
              "      <td>28.780000</td>\n",
              "      <td>'Western Europe'</td>\n",
              "      <td>7.561</td>\n",
              "      <td>1.30232</td>\n",
              "      <td>Iceland</td>\n",
              "    </tr>\n",
              "    <tr>\n",
              "      <th>25</th>\n",
              "      <td>Germany</td>\n",
              "      <td>61.0</td>\n",
              "      <td>7.2</td>\n",
              "      <td>1.99</td>\n",
              "      <td>19285.960000</td>\n",
              "      <td>16291.260000</td>\n",
              "      <td>31.541667</td>\n",
              "      <td>'Western Europe'</td>\n",
              "      <td>6.750</td>\n",
              "      <td>1.32792</td>\n",
              "      <td>Germany</td>\n",
              "    </tr>\n",
              "    <tr>\n",
              "      <th>3</th>\n",
              "      <td>Austria</td>\n",
              "      <td>59.0</td>\n",
              "      <td>7.2</td>\n",
              "      <td>2.11</td>\n",
              "      <td>19457.040000</td>\n",
              "      <td>16879.620000</td>\n",
              "      <td>30.296250</td>\n",
              "      <td>'Western Europe'</td>\n",
              "      <td>7.200</td>\n",
              "      <td>1.33723</td>\n",
              "      <td>Austria</td>\n",
              "    </tr>\n",
              "    <tr>\n",
              "      <th>4</th>\n",
              "      <td>Australia</td>\n",
              "      <td>65.0</td>\n",
              "      <td>7.6</td>\n",
              "      <td>1.80</td>\n",
              "      <td>19917.000000</td>\n",
              "      <td>15846.060000</td>\n",
              "      <td>35.285000</td>\n",
              "      <td>'Australia and New Zealand'</td>\n",
              "      <td>7.284</td>\n",
              "      <td>1.33358</td>\n",
              "      <td>Australia</td>\n",
              "    </tr>\n",
              "    <tr>\n",
              "      <th>16</th>\n",
              "      <td>Canada</td>\n",
              "      <td>69.0</td>\n",
              "      <td>8.0</td>\n",
              "      <td>1.71</td>\n",
              "      <td>20190.780000</td>\n",
              "      <td>16829.100000</td>\n",
              "      <td>33.790000</td>\n",
              "      <td>'North America'</td>\n",
              "      <td>7.427</td>\n",
              "      <td>1.32629</td>\n",
              "      <td>Canada</td>\n",
              "    </tr>\n",
              "    <tr>\n",
              "      <th>77</th>\n",
              "      <td>Norway</td>\n",
              "      <td>70.0</td>\n",
              "      <td>8.0</td>\n",
              "      <td>1.62</td>\n",
              "      <td>21877.710000</td>\n",
              "      <td>19477.620000</td>\n",
              "      <td>27.307500</td>\n",
              "      <td>'Western Europe'</td>\n",
              "      <td>7.522</td>\n",
              "      <td>1.45900</td>\n",
              "      <td>Norway</td>\n",
              "    </tr>\n",
              "    <tr>\n",
              "      <th>105</th>\n",
              "      <td>United States</td>\n",
              "      <td>62.0</td>\n",
              "      <td>7.3</td>\n",
              "      <td>1.92</td>\n",
              "      <td>23127.000000</td>\n",
              "      <td>17925.360000</td>\n",
              "      <td>41.090000</td>\n",
              "      <td>'North America'</td>\n",
              "      <td>7.119</td>\n",
              "      <td>1.39451</td>\n",
              "      <td>United States</td>\n",
              "    </tr>\n",
              "    <tr>\n",
              "      <th>17</th>\n",
              "      <td>Switzerland</td>\n",
              "      <td>70.0</td>\n",
              "      <td>8.0</td>\n",
              "      <td>1.62</td>\n",
              "      <td>23400.040000</td>\n",
              "      <td>19442.920000</td>\n",
              "      <td>32.930000</td>\n",
              "      <td>'Western Europe'</td>\n",
              "      <td>7.587</td>\n",
              "      <td>1.39651</td>\n",
              "      <td>Switzerland</td>\n",
              "    </tr>\n",
              "    <tr>\n",
              "      <th>61</th>\n",
              "      <td>Luxembourg</td>\n",
              "      <td>66.0</td>\n",
              "      <td>7.7</td>\n",
              "      <td>1.76</td>\n",
              "      <td>26182.275000</td>\n",
              "      <td>22240.230000</td>\n",
              "      <td>31.950000</td>\n",
              "      <td>'Western Europe'</td>\n",
              "      <td>6.946</td>\n",
              "      <td>1.56391</td>\n",
              "      <td>Luxembourg</td>\n",
              "    </tr>\n",
              "  </tbody>\n",
              "</table>\n",
              "</div>"
            ],
            "text/plain": [
              "            country  adjusted_satisfaction  ...      GDP       country.1\n",
              "49            Italy                   57.0  ...  1.25114           Italy\n",
              "44          Ireland                   64.0  ...  1.33596         Ireland\n",
              "90           Sweden                   67.0  ...  1.33171          Sweden\n",
              "36   United Kingdom                   60.0  ...  1.26637  United Kingdom\n",
              "7           Belgium                   63.0  ...  1.30782         Belgium\n",
              "33          Finland                   70.0  ...  1.29025         Finland\n",
              "27          Denmark                   74.0  ...  1.32548         Denmark\n",
              "34           France                   52.0  ...  1.27778          France\n",
              "76      Netherlands                   69.0  ...  1.32944     Netherlands\n",
              "48          Iceland                   71.0  ...  1.30232         Iceland\n",
              "25          Germany                   61.0  ...  1.32792         Germany\n",
              "3           Austria                   59.0  ...  1.33723         Austria\n",
              "4         Australia                   65.0  ...  1.33358       Australia\n",
              "16           Canada                   69.0  ...  1.32629          Canada\n",
              "77           Norway                   70.0  ...  1.45900          Norway\n",
              "105   United States                   62.0  ...  1.39451   United States\n",
              "17      Switzerland                   70.0  ...  1.39651     Switzerland\n",
              "61       Luxembourg                   66.0  ...  1.56391      Luxembourg\n",
              "\n",
              "[18 rows x 11 columns]"
            ]
          },
          "metadata": {
            "tags": []
          },
          "execution_count": 63
        }
      ]
    },
    {
      "cell_type": "markdown",
      "metadata": {
        "id": "PQyrVJOJuLDd"
      },
      "source": [
        "# Comparação de métricas entre Richest e o DF"
      ]
    },
    {
      "cell_type": "code",
      "metadata": {
        "id": "GYbZmlIrHL3B"
      },
      "source": [
        "all_mean=np.mean(df['avg_income'])\n",
        "all_max=np.max(df['avg_income'])\n",
        "\n",
        "rich_mean=np.mean(richest['avg_income'])\n",
        "rich_max=np.max(richest['avg_income'])"
      ],
      "execution_count": null,
      "outputs": []
    },
    {
      "cell_type": "code",
      "metadata": {
        "colab": {
          "base_uri": "https://localhost:8080/"
        },
        "id": "kYyk45eIHQlB",
        "outputId": "9e60bdde-69f2-4b14-ac8d-ed8e64607df4"
      },
      "source": [
        "print(f'{all_mean} Média da renda geral')\n",
        "print(f'{rich_mean} Média da renda dos países mais ricos (acima de 15000) ')"
      ],
      "execution_count": null,
      "outputs": [
        {
          "output_type": "stream",
          "text": [
            "6442.751416214639 Média da renda geral\n",
            "19266.680753968256 Média da renda dos países mais ricos (acima de 15000) \n"
          ],
          "name": "stdout"
        }
      ]
    },
    {
      "cell_type": "code",
      "metadata": {
        "colab": {
          "base_uri": "https://localhost:8080/",
          "height": 295
        },
        "id": "bUy1JZesyk5W",
        "outputId": "be924af9-a382-4b6d-9dab-6dc4c92b2ae4"
      },
      "source": [
        "plt.xlabel('Renda')\n",
        "plt.ylabel('Felicidade')\n",
        "plt.scatter(richest['avg_income'], richest['happyScore'])"
      ],
      "execution_count": null,
      "outputs": [
        {
          "output_type": "execute_result",
          "data": {
            "text/plain": [
              "<matplotlib.collections.PathCollection at 0x7f26aed5a1d0>"
            ]
          },
          "metadata": {
            "tags": []
          },
          "execution_count": 66
        },
        {
          "output_type": "display_data",
          "data": {
            "image/png": "[encoded data removed]",
            "text/plain": [
              "<Figure size 432x288 with 1 Axes>"
            ]
          },
          "metadata": {
            "tags": [],
            "needs_background": "light"
          }
        }
      ]
    },
    {
      "cell_type": "code",
      "metadata": {
        "colab": {
          "base_uri": "https://localhost:8080/",
          "height": 281
        },
        "id": "RlKR1Wwwz0Kd",
        "outputId": "2d97b964-78ce-4f0e-911f-bd477cbd4ca5"
      },
      "source": [
        "plt.scatter(richest['avg_income'], richest['happyScore'])\n",
        "\n",
        "# Top 3 países menos ricos do grupo dos países ricos\n",
        "plt.text(richest.iloc[0] ['avg_income'],\n",
        "         richest.iloc[0] ['happyScore'],\n",
        "         richest.iloc[0] ['country']\n",
        "         )\n",
        "plt.text(richest.iloc[1] ['avg_income'],\n",
        "         richest.iloc[1] ['happyScore'],\n",
        "         richest.iloc[1] ['country']\n",
        "         )\n",
        "plt.text(richest.iloc[2] ['avg_income'],\n",
        "         richest.iloc[2] ['happyScore'],\n",
        "         richest.iloc[2] ['country']\n",
        "         )\n",
        "\n",
        "# Top 3 países mais ricos do grupo dos países ricos\n",
        "\n",
        "plt.text(richest.iloc[-1] ['avg_income'],\n",
        "         richest.iloc[-1] ['happyScore'],\n",
        "         richest.iloc[-1] ['country']\n",
        "         )\n",
        "\n",
        "plt.text(richest.iloc[-2] ['avg_income'],\n",
        "         richest.iloc[-2] ['happyScore'],\n",
        "         richest.iloc[-2] ['country']\n",
        "         )\n",
        "\n",
        "plt.text(richest.iloc[-3] ['avg_income'],\n",
        "         richest.iloc[-3] ['happyScore'],\n",
        "         richest.iloc[-3] ['country']\n",
        "         )"
      ],
      "execution_count": null,
      "outputs": [
        {
          "output_type": "execute_result",
          "data": {
            "text/plain": [
              "Text(23127.0, 7.119, 'United States')"
            ]
          },
          "metadata": {
            "tags": []
          },
          "execution_count": 79
        },
        {
          "output_type": "display_data",
          "data": {
            "image/png": "[encoded data removed]",
            "text/plain": [
              "<Figure size 432x288 with 1 Axes>"
            ]
          },
          "metadata": {
            "tags": [],
            "needs_background": "light"
          }
        }
      ]
    },
    {
      "cell_type": "code",
      "metadata": {
        "colab": {
          "base_uri": "https://localhost:8080/"
        },
        "id": "trPHamEg6SqY",
        "outputId": "e83dd87a-f45c-43cb-a449-865052b5a638"
      },
      "source": [
        "for i,row in richest.iterrows():\n",
        "  print(row['country'])"
      ],
      "execution_count": null,
      "outputs": [
        {
          "output_type": "stream",
          "text": [
            "Italy\n",
            "Ireland\n",
            "Sweden\n",
            "United Kingdom\n",
            "Belgium\n",
            "Finland\n",
            "Denmark\n",
            "France\n",
            "Netherlands\n",
            "Iceland\n",
            "Germany\n",
            "Austria\n",
            "Australia\n",
            "Canada\n",
            "Norway\n",
            "United States\n",
            "Switzerland\n",
            "Luxembourg\n"
          ],
          "name": "stdout"
        }
      ]
    },
    {
      "cell_type": "markdown",
      "metadata": {
        "id": "jRCNFEeP6DeW"
      },
      "source": [
        "Agora vamos automatizar a nomeação dos pontos existentes no gráficos"
      ]
    },
    {
      "cell_type": "code",
      "metadata": {
        "colab": {
          "base_uri": "https://localhost:8080/",
          "height": 265
        },
        "id": "Hi_IcQgN7ZuX",
        "outputId": "930e1c2f-ee63-4c59-b283-71e2105d54a7"
      },
      "source": [
        "plt.scatter(richest['avg_income'], richest['happyScore'])\n",
        "\n",
        "for i,row in richest.iterrows():\n",
        "  #print(row['country'])\n",
        "  plt.text(row ['avg_income'],\n",
        "          row ['happyScore'],\n",
        "          row ['country']\n",
        "          )"
      ],
      "execution_count": null,
      "outputs": [
        {
          "output_type": "display_data",
          "data": {
            "image/png": "[encoded data removed]",
            "text/plain": [
              "<Figure size 432x288 with 1 Axes>"
            ]
          },
          "metadata": {
            "tags": [],
            "needs_background": "light"
          }
        }
      ]
    },
    {
      "cell_type": "markdown",
      "metadata": {
        "id": "idJG7RRFFuCK"
      },
      "source": [
        "# Relação entre renda, felicidade e desigualdade de renda\n",
        "\n",
        "\n",
        "\n",
        "> Podemos dividir os países em 3 grupos :\n",
        "\n",
        "\n",
        "*   Alta renda e felicidade\n",
        "*   Baixa renda e Alta felicidade\n",
        "*   Baixa Renda e Baixa felicidade\n",
        "\n",
        "\n",
        "\n"
      ]
    },
    {
      "cell_type": "code",
      "metadata": {
        "colab": {
          "base_uri": "https://localhost:8080/",
          "height": 296
        },
        "id": "N0UlcnKlDZ5m",
        "outputId": "08a879da-211a-4197-f43a-ea218153b4d1"
      },
      "source": [
        "plt.xlabel('Income AVG (Renda Média)')\n",
        "plt.ylabel('Happy score (Pontuação de Felicidade)')\n",
        "plt.scatter(income,happy, s=disparidade*10, alpha=0.30)"
      ],
      "execution_count": null,
      "outputs": [
        {
          "output_type": "execute_result",
          "data": {
            "text/plain": [
              "<matplotlib.collections.PathCollection at 0x7f26ae7255d0>"
            ]
          },
          "metadata": {
            "tags": []
          },
          "execution_count": 105
        },
        {
          "output_type": "display_data",
          "data": {
            "image/png": "[encoded data removed]",
            "text/plain": [
              "<Figure size 432x288 with 1 Axes>"
            ]
          },
          "metadata": {
            "tags": [],
            "needs_background": "light"
          }
        }
      ]
    },
    {
      "cell_type": "markdown",
      "metadata": {
        "id": "k9oLATTjILJe"
      },
      "source": [
        "# K-Means"
      ]
    },
    {
      "cell_type": "code",
      "metadata": {
        "id": "pj_IBJ5fHnOQ"
      },
      "source": [
        "from sklearn.cluster import KMeans"
      ],
      "execution_count": null,
      "outputs": []
    },
    {
      "cell_type": "code",
      "metadata": {
        "colab": {
          "base_uri": "https://localhost:8080/"
        },
        "id": "CRNjBxFpIPFv",
        "outputId": "862a03b4-5fee-48c6-8368-d887eab6e34d"
      },
      "source": [
        "income_happy=np.column_stack((income,happy))\n",
        "print(income_happy)"
      ],
      "execution_count": null,
      "outputs": [
        {
          "output_type": "stream",
          "text": [
            "[[5.72880000e+02 2.90500000e+00]\n",
            " [5.74200000e+02 3.68100000e+00]\n",
            " [6.53040000e+02 4.57100000e+00]\n",
            " [7.14720000e+02 4.97100000e+00]\n",
            " [7.18400000e+02 3.84500000e+00]\n",
            " [8.50080000e+02 4.50700000e+00]\n",
            " [8.70840000e+02 3.58700000e+00]\n",
            " [9.03300000e+02 3.99500000e+00]\n",
            " [9.08640000e+02 4.89800000e+00]\n",
            " [9.10320000e+02 5.26800000e+00]\n",
            " [9.36360000e+02 2.83900000e+00]\n",
            " [9.41400000e+02 3.78100000e+00]\n",
            " [9.46520000e+02 3.46500000e+00]\n",
            " [9.56760000e+02 5.12900000e+00]\n",
            " [9.89040000e+02 3.34000000e+00]\n",
            " [1.05072000e+03 4.51200000e+00]\n",
            " [1.12648000e+03 3.93100000e+00]\n",
            " [1.13508000e+03 3.90400000e+00]\n",
            " [1.17768000e+03 3.66700000e+00]\n",
            " [1.26534000e+03 4.69400000e+00]\n",
            " [1.35784800e+03 4.56500000e+00]\n",
            " [1.42812000e+03 4.51400000e+00]\n",
            " [1.44888000e+03 4.03300000e+00]\n",
            " [1.46385600e+03 5.19400000e+00]\n",
            " [1.49052000e+03 4.25200000e+00]\n",
            " [1.49172000e+03 4.87600000e+00]\n",
            " [1.49268000e+03 4.41900000e+00]\n",
            " [1.49703000e+03 4.78600000e+00]\n",
            " [1.54174737e+03 5.39900000e+00]\n",
            " [1.57704000e+03 4.63300000e+00]\n",
            " [1.76856000e+03 4.61000000e+00]\n",
            " [1.85264000e+03 5.28600000e+00]\n",
            " [1.86872000e+03 3.81900000e+00]\n",
            " [1.87524000e+03 4.36900000e+00]\n",
            " [1.92264000e+03 4.43600000e+00]\n",
            " [1.95726667e+03 4.29700000e+00]\n",
            " [2.09676000e+03 4.35000000e+00]\n",
            " [2.22446400e+03 5.07300000e+00]\n",
            " [2.23140000e+03 5.36000000e+00]\n",
            " [2.41920000e+03 5.82800000e+00]\n",
            " [2.52096000e+03 3.89600000e+00]\n",
            " [2.55828000e+03 4.27100000e+00]\n",
            " [2.62700571e+03 5.58900000e+00]\n",
            " [2.67364286e+03 5.14000000e+00]\n",
            " [2.86488000e+03 5.01300000e+00]\n",
            " [3.07728000e+03 5.88900000e+00]\n",
            " [3.08044000e+03 4.78800000e+00]\n",
            " [3.17415000e+03 5.12400000e+00]\n",
            " [3.18180000e+03 4.87400000e+00]\n",
            " [3.25128000e+03 4.73900000e+00]\n",
            " [3.38160000e+03 5.21200000e+00]\n",
            " [3.41089333e+03 6.13000000e+00]\n",
            " [3.48468000e+03 4.33200000e+00]\n",
            " [3.55509333e+03 5.85500000e+00]\n",
            " [3.83565333e+03 5.97500000e+00]\n",
            " [3.88932000e+03 4.64200000e+00]\n",
            " [3.98571000e+03 5.89000000e+00]\n",
            " [4.12050000e+03 5.47700000e+00]\n",
            " [4.12968000e+03 4.68100000e+00]\n",
            " [4.14800000e+03 7.18700000e+00]\n",
            " [4.31266667e+03 5.82400000e+00]\n",
            " [4.43076000e+03 4.88500000e+00]\n",
            " [4.61806286e+03 6.47700000e+00]\n",
            " [4.62990857e+03 5.12300000e+00]\n",
            " [4.79250000e+03 6.45500000e+00]\n",
            " [4.93852000e+03 5.87800000e+00]\n",
            " [5.21504000e+03 4.68600000e+00]\n",
            " [5.24266667e+03 5.33200000e+00]\n",
            " [5.35482000e+03 4.21800000e+00]\n",
            " [5.45393333e+03 5.81300000e+00]\n",
            " [5.56723500e+03 6.98300000e+00]\n",
            " [6.25036000e+03 6.78600000e+00]\n",
            " [6.58246588e+03 5.79100000e+00]\n",
            " [6.72290182e+03 5.09800000e+00]\n",
            " [6.78916000e+03 5.83300000e+00]\n",
            " [6.90146667e+03 7.22600000e+00]\n",
            " [6.90388364e+03 4.80000000e+00]\n",
            " [7.10112000e+03 6.57400000e+00]\n",
            " [7.28682000e+03 5.77000000e+00]\n",
            " [7.54440000e+03 6.48500000e+00]\n",
            " [7.55799000e+03 6.67000000e+00]\n",
            " [7.64719500e+03 5.71600000e+00]\n",
            " [7.82808000e+03 5.75900000e+00]\n",
            " [7.90672500e+03 5.42900000e+00]\n",
            " [7.98639692e+03 5.99500000e+00]\n",
            " [9.43090500e+03 6.50500000e+00]\n",
            " [9.98287500e+03 5.10200000e+00]\n",
            " [1.04939550e+04 5.68900000e+00]\n",
            " [1.06452400e+04 7.27800000e+00]\n",
            " [1.15075650e+04 4.85700000e+00]\n",
            " [1.21747650e+04 5.84800000e+00]\n",
            " [1.38429900e+04 6.32900000e+00]\n",
            " [1.45428000e+04 5.98700000e+00]\n",
            " [1.54375950e+04 5.94800000e+00]\n",
            " [1.66577700e+04 6.94000000e+00]\n",
            " [1.70327550e+04 7.36400000e+00]\n",
            " [1.70995500e+04 6.86700000e+00]\n",
            " [1.71685050e+04 6.93700000e+00]\n",
            " [1.73101950e+04 7.40600000e+00]\n",
            " [1.74965100e+04 7.52700000e+00]\n",
            " [1.80967886e+04 6.57500000e+00]\n",
            " [1.82344350e+04 7.37800000e+00]\n",
            " [1.88283450e+04 7.56100000e+00]\n",
            " [1.92859600e+04 6.75000000e+00]\n",
            " [1.94570400e+04 7.20000000e+00]\n",
            " [1.99170000e+04 7.28400000e+00]\n",
            " [2.01907800e+04 7.42700000e+00]\n",
            " [2.18777100e+04 7.52200000e+00]\n",
            " [2.31270000e+04 7.11900000e+00]\n",
            " [2.34000400e+04 7.58700000e+00]\n",
            " [2.61822750e+04 6.94600000e+00]]\n"
          ],
          "name": "stdout"
        }
      ]
    },
    {
      "cell_type": "markdown",
      "metadata": {
        "id": "0Wzi1iUBIzBd"
      },
      "source": [
        "**Definindo o número de clusters**"
      ]
    },
    {
      "cell_type": "code",
      "metadata": {
        "id": "-jDxDlYXItKV"
      },
      "source": [
        "k_re=KMeans(n_clusters=3).fit(income_happy)"
      ],
      "execution_count": null,
      "outputs": []
    },
    {
      "cell_type": "code",
      "metadata": {
        "colab": {
          "base_uri": "https://localhost:8080/"
        },
        "id": "ELG61JLLJKla",
        "outputId": "51fc4fd0-4550-43a7-e2f9-4f1837bf0d01"
      },
      "source": [
        "k_re.cluster_centers_\n",
        "# Primeiro_Coluna=INCOME e Segunda_Coluna=FELICIDADE"
      ],
      "execution_count": null,
      "outputs": [
        {
          "output_type": "execute_result",
          "data": {
            "text/plain": [
              "array([[7.57755711e+03, 5.85080769e+00],\n",
              "       [1.87593022e+04, 7.03270000e+00],\n",
              "       [2.19912121e+03, 4.75472308e+00]])"
            ]
          },
          "metadata": {
            "tags": []
          },
          "execution_count": 114
        }
      ]
    },
    {
      "cell_type": "code",
      "metadata": {
        "id": "mfCc0uzJJe4d"
      },
      "source": [
        "clusters=k_re.cluster_centers_"
      ],
      "execution_count": null,
      "outputs": []
    },
    {
      "cell_type": "code",
      "metadata": {
        "colab": {
          "base_uri": "https://localhost:8080/",
          "height": 282
        },
        "id": "MEiXub1FJjE6",
        "outputId": "74e70895-5822-4762-b4ee-a9ee0773f960"
      },
      "source": [
        "plt.scatter(income, happy)\n",
        "\n",
        "plt.scatter(clusters[:,0], clusters[:,1], s=500)"
      ],
      "execution_count": null,
      "outputs": [
        {
          "output_type": "execute_result",
          "data": {
            "text/plain": [
              "<matplotlib.collections.PathCollection at 0x7f2698c61d10>"
            ]
          },
          "metadata": {
            "tags": []
          },
          "execution_count": 118
        },
        {
          "output_type": "display_data",
          "data": {
            "image/png": "[encoded data removed]",
            "text/plain": [
              "<Figure size 432x288 with 1 Axes>"
            ]
          },
          "metadata": {
            "tags": [],
            "needs_background": "light"
          }
        }
      ]
    }
  ]
}